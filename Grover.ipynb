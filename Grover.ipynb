{
 "cells": [
  {
   "cell_type": "code",
   "execution_count": null,
   "id": "63874d30",
   "metadata": {},
   "outputs": [],
   "source": [
    "#This code creates a quantum circuit with n qubits, \n",
    "#where n is the number of bits in the search space, \n",
    "#and implements Grover's Algorithm by applying \n",
    "#a series of gates, measurements, and conditional operations. \n",
    "#The grover function takes as input a circuit, the \n",
    "#number of qubits n, and the index of the target target, \n",
    "#and implements the algorithm accordingly. The code \n",
    "#then runs the simulation on a local simulator backend, \n",
    "#and prints the result, which is a single measurement \n",
    "#of the n qubits in the computational basis. \n",
    "#The output of this code will show the measurement outcome, \n",
    "#which should be the binary representation of the \n",
    "#index of the target, with a high probability."
   ]
  },
  {
   "cell_type": "code",
   "execution_count": 1,
   "id": "ca3af030",
   "metadata": {},
   "outputs": [
    {
     "name": "stdout",
     "output_type": "stream",
     "text": [
      "{'101 000': 1}\n"
     ]
    }
   ],
   "source": [
    "from qiskit import QuantumCircuit, execute, Aer\n",
    "import numpy as np\n",
    "\n",
    "def grover(circuit, n, target):\n",
    "    # Create n qubits in the superposition state\n",
    "    for i in range(n):\n",
    "        circuit.h(i)\n",
    "\n",
    "    # Apply the Grover operator\n",
    "    for i in range(int(np.pi * np.sqrt(2**n) / 4)):\n",
    "        # Invert about the average\n",
    "        for j in range(n):\n",
    "            circuit.x(j)\n",
    "        circuit.h(target)\n",
    "        circuit.cx(target, (n-1))\n",
    "        circuit.h(target)\n",
    "        for j in range(n):\n",
    "            circuit.x(j)\n",
    "\n",
    "        # Invert about the target\n",
    "        for j in range(n):\n",
    "            if j != target:\n",
    "                circuit.x(j)\n",
    "        circuit.h(target)\n",
    "        circuit.cx(target, (n-1))\n",
    "        circuit.h(target)\n",
    "        for j in range(n):\n",
    "            if j != target:\n",
    "                circuit.x(j)\n",
    "    \n",
    "    # Measure the final state\n",
    "    circuit.measure_all()\n",
    "\n",
    "# Create a quantum circuit with n qubits\n",
    "n = 3\n",
    "target = 0\n",
    "circuit = QuantumCircuit(n, n)\n",
    "grover(circuit, n, target)\n",
    "\n",
    "# Run the simulation on a local simulator backend\n",
    "simulator = Aer.get_backend('qasm_simulator')\n",
    "result = execute(circuit, simulator, shots=1).result()\n",
    "counts = result.get_counts(circuit)\n",
    "print(counts)"
   ]
  },
  {
   "cell_type": "code",
   "execution_count": null,
   "id": "395b82aa",
   "metadata": {},
   "outputs": [],
   "source": []
  }
 ],
 "metadata": {
  "kernelspec": {
   "display_name": "Python 3 (ipykernel)",
   "language": "python",
   "name": "python3"
  },
  "language_info": {
   "codemirror_mode": {
    "name": "ipython",
    "version": 3
   },
   "file_extension": ".py",
   "mimetype": "text/x-python",
   "name": "python",
   "nbconvert_exporter": "python",
   "pygments_lexer": "ipython3",
   "version": "3.8.10"
  }
 },
 "nbformat": 4,
 "nbformat_minor": 5
}
